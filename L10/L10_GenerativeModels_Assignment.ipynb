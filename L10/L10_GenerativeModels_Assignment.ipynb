{
  "cells": [
    {
      "cell_type": "code",
      "execution_count": 1,
      "metadata": {
        "id": "4X1MHknvmJxD",
        "outputId": "529da56a-9c34-4a04-8f71-f369aba0878f"
      },
      "outputs": [],
      "source": [
        "import numpy as np\n",
        "from sklearn.naive_bayes import GaussianNB\n",
        "from sklearn.metrics import accuracy_score, confusion_matrix\n",
        "import matplotlib.pyplot as plt\n",
        "import seaborn as sns\n",
        "import os\n"
      ]
    },
    {
      "cell_type": "code",
      "execution_count": null,
      "metadata": {
        "id": "zo39OUOBgp43"
      },
      "outputs": [],
      "source": []
    },
    {
      "cell_type": "markdown",
      "metadata": {
        "id": "EiNsHy5imNPX"
      },
      "source": [
        "In this lab you will apply Naive Bayes to a dataset of images with the goal of classifying each image as a smile (1) or non-smile (0). We are using a dataset of faces called GENKI.\n",
        "First, we  download the dataset and explore it.\n"
      ]
    },
    {
      "cell_type": "code",
      "execution_count": 2,
      "metadata": {
        "id": "wPug-AEamWoy"
      },
      "outputs": [
        {
          "name": "stdout",
          "output_type": "stream",
          "text": [
            "--2025-05-08 10:39:17--  https://s3.amazonaws.com/jrwprojects/trainingLabels.npy\n",
            "Resolving s3.amazonaws.com (s3.amazonaws.com)... 16.15.185.187, 54.231.165.16, 52.217.137.56, ...\n",
            "Connecting to s3.amazonaws.com (s3.amazonaws.com)|16.15.185.187|:443... connected.\n",
            "HTTP request sent, awaiting response... 200 OK\n",
            "Length: 16080 (16K) [binary/octet-stream]\n",
            "Saving to: ‘trainingLabels.npy’\n",
            "\n",
            "trainingLabels.npy  100%[===================>]  15.70K  --.-KB/s    in 0s      \n",
            "\n",
            "2025-05-08 10:39:18 (163 MB/s) - ‘trainingLabels.npy’ saved [16080/16080]\n",
            "\n",
            "--2025-05-08 10:39:18--  https://s3.amazonaws.com/jrwprojects/testingLabels.npy\n",
            "Resolving s3.amazonaws.com (s3.amazonaws.com)... 52.217.199.232, 54.231.165.16, 52.217.137.56, ...\n",
            "Connecting to s3.amazonaws.com (s3.amazonaws.com)|52.217.199.232|:443... connected.\n",
            "HTTP request sent, awaiting response... 200 OK\n",
            "Length: 14704 (14K) [binary/octet-stream]\n",
            "Saving to: ‘testingLabels.npy’\n",
            "\n",
            "testingLabels.npy   100%[===================>]  14.36K  --.-KB/s    in 0s      \n",
            "\n",
            "2025-05-08 10:39:18 (115 MB/s) - ‘testingLabels.npy’ saved [14704/14704]\n",
            "\n",
            "--2025-05-08 10:39:18--  https://s3.amazonaws.com/jrwprojects/trainingFaces.npy\n",
            "Resolving s3.amazonaws.com (s3.amazonaws.com)... 16.15.176.173, 54.231.165.16, 16.15.177.142, ...\n",
            "Connecting to s3.amazonaws.com (s3.amazonaws.com)|16.15.176.173|:443... connected.\n",
            "HTTP request sent, awaiting response... 200 OK\n",
            "Length: 9216080 (8.8M) [binary/octet-stream]\n",
            "Saving to: ‘trainingFaces.npy’\n",
            "\n",
            "trainingFaces.npy   100%[===================>]   8.79M  8.15MB/s    in 1.1s    \n",
            "\n",
            "2025-05-08 10:39:20 (8.15 MB/s) - ‘trainingFaces.npy’ saved [9216080/9216080]\n",
            "\n",
            "--2025-05-08 10:39:20--  https://s3.amazonaws.com/jrwprojects/testingFaces.npy\n",
            "Resolving s3.amazonaws.com (s3.amazonaws.com)... 52.217.167.112, 54.231.165.16, 16.15.177.142, ...\n",
            "Connecting to s3.amazonaws.com (s3.amazonaws.com)|52.217.167.112|:443... connected.\n",
            "HTTP request sent, awaiting response... 200 OK\n",
            "Length: 8423504 (8.0M) [binary/octet-stream]\n",
            "Saving to: ‘testingFaces.npy’\n",
            "\n",
            "testingFaces.npy    100%[===================>]   8.03M  8.19MB/s    in 1.0s    \n",
            "\n",
            "2025-05-08 10:39:22 (8.19 MB/s) - ‘testingFaces.npy’ saved [8423504/8423504]\n",
            "\n"
          ]
        }
      ],
      "source": [
        "# Download dataset\n",
        "# Note: this only needs to be done once!\n",
        "if not os.path.exists(\"trainingLabels.npy\"):\n",
        "  !wget https://s3.amazonaws.com/jrwprojects/trainingLabels.npy\n",
        "  !wget https://s3.amazonaws.com/jrwprojects/testingLabels.npy\n",
        "  !wget https://s3.amazonaws.com/jrwprojects/trainingFaces.npy\n",
        "  !wget https://s3.amazonaws.com/jrwprojects/testingFaces.npy"
      ]
    },
    {
      "cell_type": "code",
      "execution_count": 5,
      "metadata": {
        "colab": {
          "base_uri": "https://localhost:8080/"
        },
        "id": "CqBuVTi0macb",
        "outputId": "427b2e24-9efa-426f-8aa2-3ff8913a6c20"
      },
      "outputs": [
        {
          "name": "stdout",
          "output_type": "stream",
          "text": [
            "trainingFaces shape:  (2000, 576)\n",
            "trainingLabels shape:  (2000,)\n",
            "testingFaces shape:  (1828, 576)\n",
            "testingLabels shape:  (1828,)\n",
            "Proportion 'smile' in training: 0.5355\n",
            "Proportion 'smile' in testing: 0.5464989059080962\n"
          ]
        }
      ],
      "source": [
        "# Load dataset\n",
        "trainingFaces = np.load(\"trainingFaces.npy\")\n",
        "trainingLabels = np.load(\"trainingLabels.npy\")\n",
        "testingFaces = np.load(\"testingFaces.npy\")\n",
        "testingLabels = np.load(\"testingLabels.npy\")\n",
        "# Print out the dimensions of the arrays\n",
        "print(\"trainingFaces shape: \", trainingFaces.shape)\n",
        "print(\"trainingLabels shape: \", trainingLabels.shape)\n",
        "print(\"testingFaces shape: \", testingFaces.shape)\n",
        "print(\"testingLabels shape: \", testingLabels.shape)\n",
        "# Print out basic statistics\n",
        "print(\"Proportion 'smile' in training:\", trainingLabels.mean())  # Proportion of training faces that are \"smile\"\n",
        "print(\"Proportion 'smile' in testing:\", testingLabels.mean())  # Proportion of testing faces that are \"smile\""
      ]
    },
    {
      "cell_type": "code",
      "execution_count": null,
      "metadata": {
        "id": "MYcVItHwmxRG"
      },
      "outputs": [],
      "source": []
    },
    {
      "cell_type": "markdown",
      "metadata": {
        "id": "OmgH5ohRmxuA"
      },
      "source": [
        "Let's visualize some of the faces (they are the same as in the Logistic regression exercise). We first have to reshape each image from a 576-dimensional vector (which is convenient for classification with logistic regression) to a 24x24 array (which is convenient for visualization):"
      ]
    },
    {
      "cell_type": "code",
      "execution_count": 6,
      "metadata": {
        "colab": {
          "base_uri": "https://localhost:8080/",
          "height": 817
        },
        "id": "6scPlthymx3w",
        "outputId": "a8905f32-aa6d-4ea3-e2bc-3d4fd7a39dbb"
      },
      "outputs": [
        {
          "data": {
            "image/png": "[encoded data removed]",
            "text/plain": [
              "<Figure size 125x125 with 1 Axes>"
            ]
          },
          "metadata": {},
          "output_type": "display_data"
        },
        {
          "name": "stdout",
          "output_type": "stream",
          "text": [
            "label:  1\n"
          ]
        },
        {
          "data": {
            "image/png": "[encoded data removed]",
            "text/plain": [
              "<Figure size 125x125 with 1 Axes>"
            ]
          },
          "metadata": {},
          "output_type": "display_data"
        },
        {
          "name": "stdout",
          "output_type": "stream",
          "text": [
            "label:  0\n"
          ]
        },
        {
          "data": {
            "image/png": "[encoded data removed]",
            "text/plain": [
              "<Figure size 125x125 with 1 Axes>"
            ]
          },
          "metadata": {},
          "output_type": "display_data"
        },
        {
          "name": "stdout",
          "output_type": "stream",
          "text": [
            "label:  0\n"
          ]
        },
        {
          "data": {
            "image/png": "[encoded data removed]",
            "text/plain": [
              "<Figure size 125x125 with 1 Axes>"
            ]
          },
          "metadata": {},
          "output_type": "display_data"
        },
        {
          "name": "stdout",
          "output_type": "stream",
          "text": [
            "label:  1\n"
          ]
        },
        {
          "data": {
            "image/png": "[encoded data removed]",
            "text/plain": [
              "<Figure size 125x125 with 1 Axes>"
            ]
          },
          "metadata": {},
          "output_type": "display_data"
        },
        {
          "name": "stdout",
          "output_type": "stream",
          "text": [
            "label:  1\n"
          ]
        }
      ],
      "source": [
        "for i in range(5):\n",
        "  # Before rendering, we have to reshape the image vector into a 2-d array\n",
        "  fig, ax = plt.subplots(figsize=(1.25, 1.25))\n",
        "  ax.imshow(trainingFaces[i,:].reshape(24, 24), cmap='gray')\n",
        "  plt.show()\n",
        "  print(\"label: \", trainingLabels[i])"
      ]
    },
    {
      "cell_type": "markdown",
      "metadata": {
        "id": "9ZxtXLUSmx_R"
      },
      "source": [
        "In most of the images, the label (smile vs. non-smile) is quite clear. However, in some it is not."
      ]
    },
    {
      "cell_type": "code",
      "execution_count": 7,
      "metadata": {
        "colab": {
          "base_uri": "https://localhost:8080/",
          "height": 589
        },
        "id": "WWei0BN2nK0r",
        "outputId": "700d6b97-6df3-4441-9345-b10e40061a01"
      },
      "outputs": [
        {
          "data": {
            "image/png": "[encoded data removed]",
            "text/plain": [
              "<Figure size 125x125 with 1 Axes>"
            ]
          },
          "metadata": {},
          "output_type": "display_data"
        },
        {
          "data": {
            "image/png": "[encoded data removed]",
            "text/plain": [
              "<Figure size 125x125 with 1 Axes>"
            ]
          },
          "metadata": {},
          "output_type": "display_data"
        },
        {
          "data": {
            "image/png": "[encoded data removed]",
            "text/plain": [
              "<Figure size 125x125 with 1 Axes>"
            ]
          },
          "metadata": {},
          "output_type": "display_data"
        },
        {
          "data": {
            "image/png": "[encoded data removed]",
            "text/plain": [
              "<Figure size 125x125 with 1 Axes>"
            ]
          },
          "metadata": {},
          "output_type": "display_data"
        }
      ],
      "source": [
        "ambiguousIdxs = [ 187, 192, 566, 1401 ]\n",
        "for idx in ambiguousIdxs:\n",
        "  fig, ax = plt.subplots(figsize=(1.25, 1.25))\n",
        "  ax.imshow(testingFaces[idx,:].reshape(24, 24), cmap='gray')\n",
        "  plt.show()"
      ]
    },
    {
      "cell_type": "markdown",
      "metadata": {
        "id": "qvZQTAd6nOnZ"
      },
      "source": [
        "## Task 1a: Naive Bayes for Smile Classification (1 Point)\n",
        "\n",
        "**Your task**: Train a Naive Bayes classifier (use the Gaussian Naive Bayes class in sklearn) on the entire training dataset, and measure its accuracy (proportion of correctly classified images) on  the testing data."
      ]
    },
    {
      "cell_type": "markdown",
      "metadata": {
        "id": "KybM44tT3TZx"
      },
      "source": []
    },
    {
      "cell_type": "code",
      "execution_count": 12,
      "metadata": {
        "colab": {
          "base_uri": "https://localhost:8080/"
        },
        "id": "ZNjKd02zoGO9",
        "outputId": "84eda3c1-94b5-4998-9b40-d0e3c474b116"
      },
      "outputs": [
        {
          "name": "stdout",
          "output_type": "stream",
          "text": [
            "0.736870897155361\n"
          ]
        }
      ],
      "source": [
        "naiveBayesClassifier = GaussianNB(var_smoothing=0.03)\n",
        "# TODO: implement the rest here\n",
        "# Train the model\n",
        "naiveBayesClassifier.fit(trainingFaces, trainingLabels)\n",
        "# Make predictions\n",
        "predictions = naiveBayesClassifier.predict(testingFaces)\n",
        "# Calculate accuracy\n",
        "accuracy = accuracy_score(testingLabels, predictions)\n",
        "print(accuracy)"
      ]
    },
    {
      "cell_type": "code",
      "execution_count": 13,
      "metadata": {
        "colab": {
          "base_uri": "https://localhost:8080/",
          "height": 564
        },
        "id": "8i1bXDTY5ARc",
        "outputId": "7cb69f30-c082-4217-eae4-d4ad22985688"
      },
      "outputs": [
        {
          "data": {
            "image/png": "[encoded data removed]",
            "text/plain": [
              "<Figure size 600x600 with 2 Axes>"
            ]
          },
          "metadata": {},
          "output_type": "display_data"
        }
      ],
      "source": [
        "# Create Confusion Matrix\n",
        "conf_matrix = confusion_matrix(testingLabels, predictions)\n",
        "\n",
        "# Visualize Confusion Matrix\n",
        "plt.figure(figsize=(6, 6))\n",
        "sns.heatmap(conf_matrix, annot=True, fmt='d', cmap='Blues',\n",
        "            xticklabels=[\"Non-smile\", \"Smile\"],\n",
        "            yticklabels=[\"Non-smile\", \"Smile\"])\n",
        "plt.title('Confusion Matrix')\n",
        "plt.xlabel('Predicted Label')\n",
        "plt.ylabel('True Label')\n",
        "plt.show()"
      ]
    },
    {
      "cell_type": "markdown",
      "metadata": {
        "id": "aXLzxOms5DQI"
      },
      "source": [
        "📢 **HAND-IN ON MOODLE** 📢:\n",
        "Enter the testing accuracy of the trained model on Moodle (use two-digit accuracy)."
      ]
    },
    {
      "cell_type": "markdown",
      "metadata": {
        "id": "Pp0d888jpZ9s"
      },
      "source": [
        "## Task 1b: Smoothing in Naive Bayes (1 Point)\n",
        "\n",
        "We will now investigate how different smoothing parameters (`var_smoothing`) affect the performance of a Gaussian Naive Bayes classifier for smile classification. Smoothing is a technique used to handle the problem of zero probabilities that can arise when a feature value not encountered during training is encountered during testing.\n",
        "\n",
        "This technique is important for Naive Bayes classifiers, which rely on multiplying probabilities together. If even one probability is zero, the entire product becomes zero, and the classifier cannot make reasonable predictions.\n",
        "\n",
        "Smoothing helps mitigate this issue by adding a small number to the probability estimates, ensuring that no probability is ever exactly zero."
      ]
    },
    {
      "cell_type": "markdown",
      "metadata": {
        "id": "YzovtjHj4CNx"
      },
      "source": [
        "Your task: Using the provided training and test data, experiment with how the size of the smoothing parameter impacts the test accuracy. In particular, vary `var_smoothing` over 1, 0.5, 0.2, 0.1, 0.01 ..., 0.000000001. For each value, train a logistic regression classifier  containing the same number of training examples. Then, measure *test* accuracy of the trained classifier (proportion of examples classified correctly). Plot the accuracy as a function of `var_smoothing`. Report in moodle the optimal value for the smoothing parameter, and attach your plot. Using a logarithmic scale for the smoothing values can be helpful for better visualization."
      ]
    },
    {
      "cell_type": "markdown",
      "metadata": {
        "id": "F382mNSp4xpY"
      },
      "source": []
    },
    {
      "cell_type": "code",
      "execution_count": 14,
      "metadata": {
        "colab": {
          "base_uri": "https://localhost:8080/",
          "height": 731
        },
        "id": "P_jld8kA31oL",
        "outputId": "dfe0d1ed-8a57-4794-b3c1-014f037c1584"
      },
      "outputs": [
        {
          "name": "stdout",
          "output_type": "stream",
          "text": [
            "Smoothing: 1.00e-09, Accuracy: 0.7434\n",
            "Smoothing: 1.00e-08, Accuracy: 0.7434\n",
            "Smoothing: 1.00e-07, Accuracy: 0.7434\n",
            "Smoothing: 1.00e-06, Accuracy: 0.7434\n",
            "Smoothing: 1.00e-05, Accuracy: 0.7434\n",
            "Smoothing: 1.00e-04, Accuracy: 0.7434\n",
            "Smoothing: 1.00e-03, Accuracy: 0.7429\n",
            "Smoothing: 1.00e-02, Accuracy: 0.7418\n",
            "Smoothing: 1.00e-01, Accuracy: 0.7287\n",
            "Smoothing: 1.00e+00, Accuracy: 0.6931\n"
          ]
        },
        {
          "data": {
            "image/png": "[encoded data removed]",
            "text/plain": [
              "<Figure size 1000x600 with 1 Axes>"
            ]
          },
          "metadata": {},
          "output_type": "display_data"
        }
      ],
      "source": [
        "# Experiment with different smoothing values\n",
        "smoothing_values = [1e-9, 1e-8, 1e-7, 1e-6, 1e-5, 1e-4, 1e-3, 1e-2, 1e-1, 1]\n",
        "accuracies = []\n",
        "\n",
        "# Loop through each smoothing value\n",
        "for smoothing in smoothing_values:\n",
        "    # Create a Gaussian Naive Bayes classifier with the current smoothing value\n",
        "    naiveBayesClassifier = GaussianNB(var_smoothing=smoothing)\n",
        "    \n",
        "    # Train the classifier on the training data\n",
        "    naiveBayesClassifier.fit(trainingFaces, trainingLabels)\n",
        "    \n",
        "    # Predict on the testing data\n",
        "    predictions = naiveBayesClassifier.predict(testingFaces)\n",
        "    \n",
        "    # Calculate accuracy and store it\n",
        "    accuracy = accuracy_score(testingLabels, predictions)\n",
        "    accuracies.append(accuracy)\n",
        "\n",
        "# Print accuracies for each smoothing value\n",
        "for smoothing, accuracy in zip(smoothing_values, accuracies):\n",
        "    print(f\"Smoothing: {smoothing:.2e}, Accuracy: {accuracy:.4f}\")\n",
        "\n",
        "# Visualizing the results with a plot\n",
        "plt.figure(figsize=(10, 6))\n",
        "plt.plot(smoothing_values, accuracies, marker='o', linestyle='-')\n",
        "plt.xscale('log')  # Use a logarithmic scale for smoothing values\n",
        "plt.xlabel(\"Smoothing Parameter\")\n",
        "plt.ylabel(\"Accuracy\")\n",
        "plt.title(\"Impact of Smoothing on Gaussian Naive Bayes Accuracy\")\n",
        "plt.grid(True)\n",
        "plt.show()"
      ]
    },
    {
      "cell_type": "markdown",
      "metadata": {
        "id": "F3yU_fbg4y7f"
      },
      "source": [
        "📢 **HAND-IN** 📢:\n",
        "On Moodle, provide the optimal value for the smoothing parameter, and upload your plot."
      ]
    },
    {
      "cell_type": "markdown",
      "metadata": {
        "id": "3_w8NKxNgp47"
      },
      "source": [
        "## Task 2. Effect of feature selection in Naive Bayes\n",
        "\n"
      ]
    },
    {
      "cell_type": "code",
      "execution_count": null,
      "metadata": {
        "id": "iWyZ9AWBgp48"
      },
      "outputs": [],
      "source": [
        "# Function to train the Gaussian Naive Bayes model on varying number of features\n",
        "def evaluate_varying_features(trainingFaces, trainingLabels, testingFaces, testingLabels):\n",
        "    num_features = trainingFaces.shape[1]\n",
        "    accuracies = []\n",
        "\n",
        "    # TODO: Loop over a range of feature subsets to evaluate the effect of different features.\n",
        "    # Calculate predictions for each different number features\n",
        "    # (note that the maximal number of features is given by the number of pixels in the image)\n",
        "\n",
        "# Evaluate and plot the results\n",
        "\n",
        "\n",
        "print(f\"Maximum Accuracy: {max_accuracy:.3f} at index {max_index}\")\n",
        "\n",
        "\n",
        "# Plot the accuracies against number of features used\n",
        "feature_counts, accuracy_values = zip(*accuracies)\n",
        "plt.figure(figsize=(10, 6))\n",
        "plt.plot(feature_counts, accuracy_values, marker='o')\n",
        "plt.xlabel('Number of Features')\n",
        "plt.ylabel('Accuracy')\n",
        "plt.title('Effect of Number of Features on Naive Bayes Classifier Accuracy')\n",
        "plt.grid(True)\n",
        "plt.show()\n",
        "\n",
        "# Find the maximum accuracy with the corresponding number of features\n",
        "accuracies = evaluate_varying_features(trainingFaces, trainingLabels, testingFaces, testingLabels)\n",
        "max_accuracy_tuple = max(accuracies, key=lambda x: x[1])\n",
        "max_index, max_accuracy = max_accuracy_tuple"
      ]
    },
    {
      "cell_type": "markdown",
      "metadata": {
        "id": "9Qk2dhPEgp48"
      },
      "source": [
        "📢 **HAND-IN TASK 2** 📢:\n",
        "On Moodle, provide the maximum achieved accuracy, and the corresponding number of features (max_index, max_accuracy ). Use two digits after the decimal sign. Upload your plot."
      ]
    },
    {
      "cell_type": "markdown",
      "metadata": {
        "id": "Gx7MrGVH6UHQ"
      },
      "source": [
        "##  Task 3. Naive Bayes vs. Logistic Regression (2 p)\n",
        "\n",
        " Compare the implementations of Gaussian Naive Bayes and Logistic Regression (as implemented in \"L04_Logistic_Regression\") for the smile classification task. Evaluate their performance using various metrics, such as accuracy, precision, recall, and F1-score."
      ]
    },
    {
      "cell_type": "code",
      "execution_count": null,
      "metadata": {
        "id": "H1_ZLwjw6Of2"
      },
      "outputs": [],
      "source": [
        "from sklearn.linear_model import LogisticRegression\n",
        "from sklearn.naive_bayes import GaussianNB\n",
        "from sklearn.model_selection import train_test_split\n",
        "from sklearn.metrics import accuracy_score, precision_score, recall_score, f1_score\n",
        "\n",
        "# Load your dataset (replace with your actual data loading)\n",
        "# Assume your data is in 'X' (features) and 'y' (labels)\n",
        "X = np.load(\"trainingFaces.npy\")\n",
        "y = np.load(\"trainingLabels.npy\")\n",
        "\n",
        "# Split the data into training and testing sets\n",
        "X_train, X_test, y_train, y_test = train_test_split(\n",
        "    X, y, test_size=0.2, random_state=42\n",
        ")\n",
        "\n",
        "# Logistic Regression Model\n",
        "\n",
        "#TODO: Define your model, implement the model inference and obtain predictions for the test dataset.\n",
        "# Use 500 iterations of gradient descent (max_iter=500).\n",
        "\n",
        "# logreg = ...\n",
        "# ...\n",
        "# logreg_preds = ...\n",
        "\n"
      ]
    },
    {
      "cell_type": "markdown",
      "metadata": {
        "id": "TWuexBOjgp48"
      },
      "source": [
        "Now train the Naive Bayes Model."
      ]
    },
    {
      "cell_type": "code",
      "execution_count": null,
      "metadata": {
        "id": "9P7qgR9cgp48"
      },
      "outputs": [],
      "source": [
        "\n",
        "\n",
        "#TODO: Define your model, implement the model inference and obtain predictions for the test dataset\n",
        "\n",
        "# nb = ...\n",
        "\n",
        "# ...\n",
        "\n",
        "# nb_preds = ...\n",
        "\n",
        "# Evaluate the models\n",
        "def evaluate_model(y_true, y_pred, model_name):\n",
        "    accuracy = accuracy_score(y_true, y_pred)\n",
        "    precision = precision_score(y_true, y_pred)\n",
        "    recall = recall_score(y_true, y_pred)\n",
        "    #TODO: define the f1 score: f1 = ...\n",
        "    f1 = f1_score(y_true, y_pred)\n",
        "\n",
        "    print(f\"----- {model_name} Evaluation -----\")\n",
        "    print(f\"Accuracy: {accuracy:.4f}\")\n",
        "    print(f\"Precision: {precision:.4f}\")\n",
        "    print(f\"Recall: {recall:.4f}\")\n",
        "    print(f\"F1-Score: {f1:.4f}\")\n",
        "    print(\"-\" * 30)\n",
        "\n",
        "evaluate_model(y_test, logreg_preds, \"Logistic Regression\")\n",
        "evaluate_model(y_test, nb_preds, \"Naive Bayes\")\n",
        "\n"
      ]
    },
    {
      "cell_type": "markdown",
      "metadata": {
        "id": "ozuype6U6tff"
      },
      "source": [
        "📢 **HAND-IN TASK 3A** 📢:\n",
        "On Moodle, provide the F-score for the logistic regression (two digits after the decimal sign).\n",
        "\n",
        "📢 **HAND-IN TASK 3B** 📢:\n",
        "On Moodle, provide the F1-score for your Naive Bayes model (use two digits after the decimal sign)."
      ]
    },
    {
      "cell_type": "markdown",
      "metadata": {
        "id": "SnNwA7lvgp48"
      },
      "source": [
        "\n"
      ]
    },
    {
      "cell_type": "code",
      "execution_count": null,
      "metadata": {
        "id": "PvmTrG78gp48"
      },
      "outputs": [],
      "source": []
    },
    {
      "cell_type": "markdown",
      "metadata": {
        "id": "c_xz95rigp48"
      },
      "source": []
    },
    {
      "cell_type": "code",
      "execution_count": null,
      "metadata": {
        "id": "9d6B6B27gp48"
      },
      "outputs": [],
      "source": []
    },
    {
      "cell_type": "code",
      "execution_count": null,
      "metadata": {
        "id": "t7wdqSVJgp48"
      },
      "outputs": [],
      "source": []
    }
  ],
  "metadata": {
    "colab": {
      "provenance": []
    },
    "kernelspec": {
      "display_name": "base",
      "language": "python",
      "name": "python3"
    },
    "language_info": {
      "codemirror_mode": {
        "name": "ipython",
        "version": 3
      },
      "file_extension": ".py",
      "mimetype": "text/x-python",
      "name": "python",
      "nbconvert_exporter": "python",
      "pygments_lexer": "ipython3",
      "version": "3.11.4"
    }
  },
  "nbformat": 4,
  "nbformat_minor": 0
}
